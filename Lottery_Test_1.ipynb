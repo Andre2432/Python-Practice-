{
  "nbformat": 4,
  "nbformat_minor": 0,
  "metadata": {
    "colab": {
      "provenance": [],
      "authorship_tag": "ABX9TyOBm7YSI1+9qfZNrDarHoHg",
      "include_colab_link": true
    },
    "kernelspec": {
      "name": "python3",
      "display_name": "Python 3"
    }
  },
  "cells": [
    {
      "cell_type": "markdown",
      "metadata": {
        "id": "view-in-github",
        "colab_type": "text"
      },
      "source": [
        "<a href=\"https://colab.research.google.com/github/Andre2432/Python-Practice-/blob/main/Lottery_Test_1.ipynb\" target=\"_parent\"><img src=\"https://colab.research.google.com/assets/colab-badge.svg\" alt=\"Open In Colab\"/></a>"
      ]
    },
    {
      "cell_type": "code",
      "metadata": {
        "id": "a-cY7FUb3Z58"
      },
      "source": [
        "import random"
      ],
      "execution_count": 23,
      "outputs": []
    },
    {
      "cell_type": "code",
      "metadata": {
        "colab": {
          "base_uri": "https://localhost:8080/"
        },
        "id": "SVAeg3zH4N9p",
        "outputId": "7aa0e934-77da-476d-e8bc-a0b31efe9db1"
      },
      "source": [
        "def generate():\n",
        "    lottery_list = []\n",
        "    for i in range(5):\n",
        "        lottery_list.append(random.randrange(1 ,70))\n",
        "    print()\n",
        "    return lottery_list\n",
        "def display(lottery_list):\n",
        "    for i in lottery_list:\n",
        "        print()\n",
        "lottery_list = generate()\n",
        "#print('Lottery Numbers: ' , lottery_list) \n",
        "\n"
      ],
      "execution_count": 24,
      "outputs": [
        {
          "output_type": "stream",
          "name": "stdout",
          "text": [
            "\n"
          ]
        }
      ]
    },
    {
      "cell_type": "code",
      "source": [
        "def generate():\n",
        "    money_ball = []\n",
        "    for i in range(1):\n",
        "        money_ball.append(random.randrange(1 ,25))\n",
        "    print()\n",
        "    return money_ball\n",
        "def display(money_ball):\n",
        "    for i in money_ball:\n",
        "        print(i)\n",
        "money_ball = generate()\n",
        "print()\n",
        "#print('Money Ball:', money_ball)"
      ],
      "metadata": {
        "id": "Tc6dXo-XBcr5",
        "colab": {
          "base_uri": "https://localhost:8080/"
        },
        "outputId": "162be412-3bb4-4d5c-8e15-7d2e89a28fd0"
      },
      "execution_count": 25,
      "outputs": [
        {
          "output_type": "stream",
          "name": "stdout",
          "text": [
            "\n",
            "\n"
          ]
        }
      ]
    },
    {
      "cell_type": "code",
      "source": [
        "mystring1 = (' '.join(map(str,money_ball))) \n",
        "mystring2 =(' '.join(map(str,lottery_list)))\n",
        "\n",
        "print('Money Ball: ' + mystring1 + '\\n')\n",
        "print('Lottery Numbers: ' + mystring2)"
      ],
      "metadata": {
        "colab": {
          "base_uri": "https://localhost:8080/"
        },
        "id": "ldlhE3f5LOtk",
        "outputId": "c129f031-a780-470c-b9f7-84c89816e9bf"
      },
      "execution_count": 26,
      "outputs": [
        {
          "output_type": "stream",
          "name": "stdout",
          "text": [
            "Money Ball: 8\n",
            "\n",
            "Lottery Numbers: 35 14 11 34 33\n"
          ]
        }
      ]
    }
  ]
}