{
 "cells": [
  {
   "cell_type": "code",
   "execution_count": 2,
   "metadata": {},
   "outputs": [],
   "source": [
    "import numpy as np\n",
    "import matplotlib.pyplot as plt  # To visualize\n",
    "import pandas as pd  # To read data\n",
    "from sklearn.linear_model import LinearRegression\n",
    "import statsmodels.api as sm"
   ]
  },
  {
   "cell_type": "code",
   "execution_count": 9,
   "metadata": {},
   "outputs": [],
   "source": [
    "data = pd.read_csv('global-primary-energy.csv')  # load data set\n",
    "X = data.iloc[:, 0].values.reshape(-1, 1)  # values converts it into a numpy array\n",
    "Y = data.iloc[:, 1].values.reshape(-1, 1)  # -1 means that calculate the dimension of rows, but have 1 column\n",
    "linear_regressor = LinearRegression()  # create object for the class\n",
    "linear_regressor.fit(X, Y)  # perform linear regression\n",
    "Y_pred = linear_regressor.predict(X)  # make predictions"
   ]
  },
  {
   "cell_type": "code",
   "execution_count": 8,
   "metadata": {},
   "outputs": [
    {
     "data": {
      "image/png": "[encoded data removed]",
      "text/plain": [
       "<Figure size 432x288 with 1 Axes>"
      ]
     },
     "metadata": {
      "needs_background": "light"
     },
     "output_type": "display_data"
    }
   ],
   "source": [
    "plt.scatter(X, Y)\n",
    "plt.plot(X, Y_pred, color='red')\n",
    "plt.show()"
   ]
  },
  {
   "cell_type": "code",
   "execution_count": 24,
   "metadata": {},
   "outputs": [],
   "source": [
    "from sklearn import datasets ## imports datasets from scikit-learn\n",
    "data = pd.read_csv('global-primary-energy.csv')"
   ]
  },
  {
   "cell_type": "code",
   "execution_count": 28,
   "metadata": {},
   "outputs": [
    {
     "name": "stdout",
     "output_type": "stream",
     "text": [
      "    Year  Coal (TWh; direct energy)  Oil (TWh; direct energy)  \\\n",
      "0   1800                         97                         0   \n",
      "1   1810                        128                         0   \n",
      "2   1820                        153                         0   \n",
      "3   1830                        264                         0   \n",
      "4   1840                        356                         0   \n",
      "..   ...                        ...                       ...   \n",
      "67  2015                      43844                     50892   \n",
      "68  2016                      43196                     51920   \n",
      "69  2017                      43360                     52568   \n",
      "70  2018                      44109                     53181   \n",
      "71  2019                      43849                     53620   \n",
      "\n",
      "    Gas (TWh; direct energy)  Hydropower (TWh; direct energy)  \\\n",
      "0                          0                                0   \n",
      "1                          0                                0   \n",
      "2                          0                                0   \n",
      "3                          0                                0   \n",
      "4                          0                                0   \n",
      "..                       ...                              ...   \n",
      "67                     34781                             3885   \n",
      "68                     35589                             4013   \n",
      "69                     36586                             4066   \n",
      "70                     38517                             4171   \n",
      "71                     39292                             4222   \n",
      "\n",
      "    Nuclear (TWh; direct energy)  Solar (TWh; direct energy)  \\\n",
      "0                              0                           0   \n",
      "1                              0                           0   \n",
      "2                              0                           0   \n",
      "3                              0                           0   \n",
      "4                              0                           0   \n",
      "..                           ...                         ...   \n",
      "67                          2576                         257   \n",
      "68                          2615                         328   \n",
      "69                          2639                         447   \n",
      "70                          2700                         583   \n",
      "71                          2796                         724   \n",
      "\n",
      "    Other renewables (TWh; direct energy)  \\\n",
      "0                                       0   \n",
      "1                                       0   \n",
      "2                                       0   \n",
      "3                                       0   \n",
      "4                                       0   \n",
      "..                                    ...   \n",
      "67                                    538   \n",
      "68                                    548   \n",
      "69                                    583   \n",
      "70                                    615   \n",
      "71                                    652   \n",
      "\n",
      "    Traditional biomass (TWh; direct energy)  Wind (TWh; direct energy)  \\\n",
      "0                                       5556                          0   \n",
      "1                                       5833                          0   \n",
      "2                                       6111                          0   \n",
      "3                                       6389                          0   \n",
      "4                                       6944                          0   \n",
      "..                                       ...                        ...   \n",
      "67                                     11111                        832   \n",
      "68                                     11111                        964   \n",
      "69                                     11111                       1141   \n",
      "70                                     11111                       1270   \n",
      "71                                     11111                       1430   \n",
      "\n",
      "    Biofuels (TWh; direct energy)  \n",
      "0                               0  \n",
      "1                               0  \n",
      "2                               0  \n",
      "3                               0  \n",
      "4                               0  \n",
      "..                            ...  \n",
      "67                            937  \n",
      "68                            970  \n",
      "69                           1012  \n",
      "70                           1109  \n",
      "71                           1143  \n",
      "\n",
      "[72 rows x 11 columns]\n"
     ]
    }
   ],
   "source": [
    "print(data)"
   ]
  },
  {
   "cell_type": "code",
   "execution_count": null,
   "metadata": {},
   "outputs": [],
   "source": []
  }
 ],
 "metadata": {
  "kernelspec": {
   "display_name": "Python 3",
   "language": "python",
   "name": "python3"
  },
  "language_info": {
   "codemirror_mode": {
    "name": "ipython",
    "version": 3
   },
   "file_extension": ".py",
   "mimetype": "text/x-python",
   "name": "python",
   "nbconvert_exporter": "python",
   "pygments_lexer": "ipython3",
   "version": "3.8.3"
  }
 },
 "nbformat": 4,
 "nbformat_minor": 4
}
